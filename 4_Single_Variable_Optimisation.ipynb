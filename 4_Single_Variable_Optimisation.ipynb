{
  "nbformat": 4,
  "nbformat_minor": 0,
  "metadata": {
    "colab": {
      "name": "Copy of Code Examples for Math for AI&ML -- Single-Variable Optimisation",
      "provenance": [],
      "collapsed_sections": []
    },
    "kernelspec": {
      "display_name": "Python 3",
      "name": "python3"
    }
  },
  "cells": [
    {
      "cell_type": "markdown",
      "metadata": {
        "id": "GJBs_flRovLc"
      },
      "source": [
        "## <strong>Getting started</strong>\n",
        "\n",
        "The document that you are reading is not a static web page, but an interactive environment called a <strong>Colab notebook</strong> that lets you write and execute code."
      ]
    },
    {
      "cell_type": "markdown",
      "metadata": {
        "id": "NIadZ3o0Cnk8"
      },
      "source": [
        "First of all, let's mount our Google Drive on our runtime."
      ]
    },
    {
      "cell_type": "code",
      "metadata": {
        "id": "TJlP05uxCKNz",
        "colab": {
          "base_uri": "https://localhost:8080/"
        },
        "outputId": "b48e5b05-0268-4ea0-aa48-cbcccbc502ad"
      },
      "source": [
        "from google.colab import drive\n",
        "drive.mount('/content/gdrive')"
      ],
      "execution_count": null,
      "outputs": [
        {
          "output_type": "stream",
          "name": "stdout",
          "text": [
            "Mounted at /content/gdrive\n"
          ]
        }
      ]
    },
    {
      "cell_type": "markdown",
      "metadata": {
        "id": "7KuVxWfMCgzM"
      },
      "source": [
        "With the Google Drive mounted, you can now store your image files (or any other file you wish, for that matter) in any directory of your choice in Drive, e.g.:"
      ]
    },
    {
      "cell_type": "code",
      "metadata": {
        "id": "D0gxyk5qCyqs"
      },
      "source": [
        "images_dir = '/content/gdrive/My Drive/Teaching/2020-2021/Math for AI ML/SlidesLectureNotes'\n"
      ],
      "execution_count": null,
      "outputs": []
    },
    {
      "cell_type": "markdown",
      "metadata": {
        "id": "m0v2Wo3jAi5p"
      },
      "source": [
        "## Motivation Example: balls in urns\n",
        "Let us denote the proportion of black ball, or the probability of drawing a black ball as $\\theta$, i.e.,$P(B) = \\theta $ and $P(W) = 1- \\theta $ for a white ball. \n",
        "\n",
        "Since each draw is Independent and identically distributed (I.I.D), we can calculate the probability of getting that sequence $D$ as the product of the probabilities of each of the individual draws:\n",
        "\n",
        "\n",
        "\n",
        "$$\n",
        "L(\\theta|D) = \\prod_{i=1}^{N}  \\begin{cases}\n",
        "\\theta \\; & \\text{ if } d_i = B \\\\\n",
        "1-\\theta \\; & \\text{ if } d_i = W \\\\  \n",
        "\\end{cases}\n",
        "$$\n",
        "\n"
      ]
    },
    {
      "cell_type": "code",
      "metadata": {
        "id": "9CFQNgshN9f5",
        "colab": {
          "base_uri": "https://localhost:8080/"
        },
        "outputId": "b8b8e3f9-4fa0-4603-9495-a4070120d413"
      },
      "source": [
        "import matplotlib.pyplot as plt \n",
        "import numpy as np \n",
        "import math \n",
        "\n",
        "D = 'BBWBWWBWWWBW'\n",
        "idx = [pos for pos, char in enumerate(D) if char == 'B'] # Find the indices of 'B' in D\n",
        "print(idx)\n",
        "theta = 0.75 # black balls made up 75% of the urn\n",
        "pp = np.array([1-theta] * len(D))\n",
        "pp[np.array(idx)] = theta \n",
        "\n",
        "print(pp)\n",
        "totalprobability = np.prod(pp)\n",
        "s = 'Probability of sequence with ' + repr(theta) + ' black ball distribution: ' + repr(totalprobability) \n",
        "print(s)\n",
        "\n"
      ],
      "execution_count": null,
      "outputs": [
        {
          "output_type": "stream",
          "name": "stdout",
          "text": [
            "[0, 1, 3, 6, 10]\n",
            "[0.75 0.75 0.25 0.75 0.25 0.25 0.75 0.25 0.25 0.25 0.75 0.25]\n",
            "Probability of sequence with 0.75 black ball distribution: 1.4483928680419922e-05\n"
          ]
        }
      ]
    },
    {
      "cell_type": "markdown",
      "metadata": {
        "id": "mlXSgbDMpXHj"
      },
      "source": [
        "## Graph the likelihood\n",
        "we can easily abstract this as a function of and θ, and graph the likelihood as a function of any value of the proportion of black balls from 0 to 1:"
      ]
    },
    {
      "cell_type": "code",
      "metadata": {
        "id": "fJSPUjnIppIJ",
        "colab": {
          "base_uri": "https://localhost:8080/",
          "height": 302
        },
        "outputId": "df8522e0-f853-43de-d9cd-2f76807317b0"
      },
      "source": [
        "import matplotlib.pyplot as plt \n",
        "import numpy as np \n",
        "import math \n",
        "\n",
        "# Define a function to calculate the probability of getting that sequence $D$ given the parameter $\\theta$\n",
        "def totalprob(theta, D): \n",
        "    idx = [pos for pos, char in enumerate(D) if char == 'B']\n",
        "    pp = np.array([1-theta] * len(D))\n",
        "    pp[np.array(idx)] = theta \n",
        "    totalprobability = np.prod(pp)\n",
        "    return totalprobability\n",
        "\n",
        "D = 'BBWBWWBWWWBW'\n",
        "seqlen = len(D)\n",
        "x = np.linspace(.01, .99, 100)\n",
        "likelihoods  = []\n",
        "for theta in x:\n",
        "  likelihoods = np.append(likelihoods, totalprob(theta, D))\n",
        "\n",
        "# Plot the figure\n",
        "handle = plt.figure()\n",
        "plt.style.use(['ggplot'])\n",
        "plt.plot(x, likelihoods)\n",
        "plt.xlabel(r'$\\theta$')\n",
        "plt.ylabel('Likelihood')\n",
        "\n",
        "#handle.savefig(f\"{images_dir}/Week-8-Lecture-5-Optimisation-Gradient-Descent/Likelihood.pdf\", bbox_inches='tight')\n"
      ],
      "execution_count": null,
      "outputs": [
        {
          "output_type": "execute_result",
          "data": {
            "text/plain": [
              "Text(0, 0.5, 'Likelihood')"
            ]
          },
          "metadata": {},
          "execution_count": 4
        },
        {
          "output_type": "display_data",
          "data": {
            "image/png": "[encoded data removed]",
            "text/plain": [
              "<Figure size 432x288 with 1 Axes>"
            ]
          },
          "metadata": {
            "needs_background": "light"
          }
        }
      ]
    },
    {
      "cell_type": "markdown",
      "metadata": {
        "id": "KWWoRNRzhCUR"
      },
      "source": [
        "## Cost function\n",
        "\n",
        "The cost function, also known as the loss function or objective function, is the function that optimization works over – we want to find the optimal set of events to minimize the “cost” of those events.\n",
        "\t\n",
        "This is extremely general, but has a one-to-one mapping with likelihood: for parameter fitting the cost function is often calculated as the negative logarithm of the likelihood function:\n",
        "\n",
        "$$\n",
        "C(\\theta, D) = -\\log(L(\\theta|D))\n",
        "$$\n",
        "\n"
      ]
    },
    {
      "cell_type": "code",
      "metadata": {
        "id": "NAIkLzlYhnkE",
        "colab": {
          "base_uri": "https://localhost:8080/",
          "height": 317
        },
        "outputId": "5dfd9950-facf-41bb-e97a-89adc48577e5"
      },
      "source": [
        "import matplotlib.pyplot as plt \n",
        "import numpy as np \n",
        "import math \n",
        "\n",
        "def cost(theta, D): \n",
        "    idx = [pos for pos, char in enumerate(D) if char == 'B']\n",
        "    pp = np.array([1-theta] * len(D))\n",
        "    pp[np.array(idx)] = theta \n",
        "    totalprobability = np.prod(pp)\n",
        "    return -np.log(totalprobability)\n",
        "\n",
        "D = 'BBWBWWBWWWBW'\n",
        "seqlen = len(D)\n",
        "x = np.linspace(.01, .99, 100)\n",
        "likelihoods  = []\n",
        "for theta in x:\n",
        "  likelihoods = np.append(likelihoods, cost(theta, D))\n",
        "\n",
        "# Plot the figure\n",
        "handle = plt.figure()\n",
        "plt.style.use(['ggplot'])\n",
        "plt.plot(x, likelihoods)\n",
        "plt.xlabel(r'$\\theta$')\n",
        "plt.ylabel('Cost')\n",
        "plt.title('Cost function for likelihood')\n",
        "plt.legend()\n",
        "plt.show()\n",
        "\n",
        "#handle.savefig(f\"{images_dir}/Week-8-Lecture-5-Optimisation-Gradient-Descent/cost.pdf\", bbox_inches='tight')"
      ],
      "execution_count": null,
      "outputs": [
        {
          "output_type": "stream",
          "name": "stderr",
          "text": [
            "No handles with labels found to put in legend.\n"
          ]
        },
        {
          "output_type": "display_data",
          "data": {
            "image/png": "[encoded data removed]",
            "text/plain": [
              "<Figure size 432x288 with 1 Axes>"
            ]
          },
          "metadata": {}
        }
      ]
    },
    {
      "cell_type": "markdown",
      "metadata": {
        "id": "mbNZ_dfCtPff"
      },
      "source": [
        "## Gradient descent\n",
        "Gradient descent is a first-order iterative optimization algorithm for finding a local minimum of a differentiable function. \n",
        "\n",
        "To find a local minimum of a function using gradient descent, we start at any value of $\\theta$, then change the parameter in the direction that decreases the cost function, and keep repeating until there is only the tiniest decrease in cost with each step."
      ]
    },
    {
      "cell_type": "code",
      "metadata": {
        "id": "UENZiu_rttBk",
        "colab": {
          "base_uri": "https://localhost:8080/",
          "height": 333
        },
        "outputId": "5c56be4d-46cd-493b-e122-c29822becfbc"
      },
      "source": [
        "import numpy as np\n",
        "import matplotlib.pyplot as plt\n",
        "%matplotlib inline\n",
        "\n",
        "plt.style.use(['ggplot'])\n",
        "\n",
        "\n",
        "def urn_gradient(theta):\n",
        "  gradient = (7/(1-theta) - 5/theta)\n",
        "  return gradient\n",
        "\n",
        "def cost(theta, D): \n",
        "    idx = [pos for pos, char in enumerate(D) if char == 'B']\n",
        "    pp = np.array([1-theta] * len(D))\n",
        "    pp[np.array(idx)] = theta \n",
        "    totalprobability = np.prod(pp)\n",
        "    return -np.log(totalprobability)\n",
        "\n",
        "iterations = 100\n",
        "D = 'BBWBWWBWWWBW'\n",
        "seqlen = len(D)\n",
        "x = np.linspace(.01, .99, 100)\n",
        "likelihoods  = []\n",
        "for theta in x:\n",
        "  likelihoods = np.append(likelihoods, cost(theta, D))\n",
        "\n",
        "# Plot the figure\n",
        "handle = plt.figure()\n",
        "plt.style.use(['ggplot'])\n",
        "plt.plot(x, likelihoods)\n",
        "plt.xlabel(r'$\\theta$')\n",
        "plt.ylabel('Cost')\n",
        "plt.title('Cost function for likelihood')\n",
        "plt.legend()\n",
        "\n",
        "\n",
        "cur_theta = 0.05 # The algorithm starts at x=3\n",
        "eta = 0.001 # Learning rate\n",
        "tau = 0.000001 #This tells us when to stop the algorithm\n",
        "new_cost = cost(cur_theta, D);\n",
        "prior_cost = new_cost\n",
        "\n",
        "running = True\n",
        "while running==True:\n",
        "    plt.plot(cur_theta, new_cost, 'o', color='black')\n",
        "    cur_theta = cur_theta - eta * urn_gradient(cur_theta) #Grad descent\n",
        "    new_cost = cost(cur_theta, D);\n",
        "    if(abs(new_cost - prior_cost)< tau):\n",
        "      running = False\n",
        "      #print(\"Iteration\",iters,\"\\nX value is\",cur_theta)\n",
        "    else:\n",
        "      prior_cost = new_cost\n",
        "    #print(\"Iteration\",iters,\"\\nX value is\",cur_theta) #Print iterations\n",
        "    \n",
        "plt.show()\n",
        "print(\"The local minimum occurs at\", cur_theta)\n",
        "\n",
        "\n"
      ],
      "execution_count": null,
      "outputs": [
        {
          "output_type": "stream",
          "name": "stderr",
          "text": [
            "No handles with labels found to put in legend.\n"
          ]
        },
        {
          "output_type": "display_data",
          "data": {
            "image/png": "[encoded data removed]",
            "text/plain": [
              "<Figure size 432x288 with 1 Axes>"
            ]
          },
          "metadata": {}
        },
        {
          "output_type": "stream",
          "name": "stdout",
          "text": [
            "The local minimum occurs at 0.41607725188225936\n"
          ]
        }
      ]
    },
    {
      "cell_type": "markdown",
      "metadata": {
        "id": "LUgpPCeqejtR"
      },
      "source": [
        "## Optimisation: an example\n",
        "We follow the book *Mathematics for Machine Learning* (pp. 225) to plot a continous function which has a global minimum global minimum around x = −4.5, with a function value of approximately −47. Since the function is “smooth,” the gradients can be used to help find the minimum by indicating whether we should take a step to the right or left. This assumes that we are in the correct bowl, as there exists another local local minimum minimum around x = 0.7."
      ]
    },
    {
      "cell_type": "code",
      "metadata": {
        "id": "nFGkzr3ae-UG",
        "colab": {
          "base_uri": "https://localhost:8080/",
          "height": 320
        },
        "outputId": "c1b02a3b-99c1-4dd3-ae81-c3fac6653f1d"
      },
      "source": [
        "# Import matplotlib, numpy and math \n",
        "import matplotlib.pyplot as plt \n",
        "import numpy as np \n",
        "  \n",
        "# Define the continous function l(x)\n",
        "def arbi_cost(theta):\n",
        "  return theta**4 + 7*theta**3 + 5*theta**2 - 17*theta + 3  \n",
        "\n",
        "# Define the corresponding gradient\n",
        "def arbi_gradient(theta): \n",
        "    return 4*theta**3 + 21*theta**2 +  10*theta -17 \n",
        "\n",
        "thetas = np.linspace(-6,3,100)\n",
        "\n",
        "# Plot the figure\n",
        "handle = plt.figure()\n",
        "plt.plot(thetas, arbi_cost(thetas), 'R')\n",
        "\n",
        "\n",
        "\n",
        "cur_theta = 2.5 # The algorithm starts at x=3\n",
        "eta = 0.001 # Learning rate\n",
        "tau = 0.000001 #This tells us when to stop the algorithm\n",
        "new_cost = arbi_cost(cur_theta);\n",
        "prior_cost = new_cost\n",
        "\n",
        "running = True\n",
        "while running==True:\n",
        "    plt.plot(cur_theta, new_cost, 'o', color='black')\n",
        "    cur_theta = cur_theta - eta * arbi_gradient(cur_theta) #Grad descent\n",
        "    new_cost = arbi_cost(cur_theta);\n",
        "    if(abs(new_cost - prior_cost)< tau):\n",
        "      running = False\n",
        "    else:\n",
        "      prior_cost = new_cost\n",
        "    #print(\"Iteration\",iters,\"\\nX value is\",cur_theta) #Print iterations\n",
        "    \n",
        "plt.show()\n",
        "print(\"The local minimum occurs at\", cur_theta)\n",
        "\n",
        "#handle.savefig(f\"{images_dir}/Week-2-Lecture-6-Single-Variable Optimisation/Figure72.pdf\", bbox_inches='tight')"
      ],
      "execution_count": null,
      "outputs": [
        {
          "output_type": "stream",
          "name": "stderr",
          "text": [
            "/usr/local/lib/python3.7/dist-packages/ipykernel_launcher.py:17: MatplotlibDeprecationWarning: Support for uppercase single-letter colors is deprecated since Matplotlib 3.1 and will be removed in 3.3; please use lowercase instead.\n"
          ]
        },
        {
          "output_type": "display_data",
          "data": {
            "image/png": "[encoded data removed]",
            "text/plain": [
              "<Figure size 432x288 with 1 Axes>"
            ]
          },
          "metadata": {}
        },
        {
          "output_type": "stream",
          "name": "stdout",
          "text": [
            "The local minimum occurs at 0.6630650770355391\n"
          ]
        }
      ]
    }
  ]
}